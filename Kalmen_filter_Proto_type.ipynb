{
  "nbformat": 4,
  "nbformat_minor": 0,
  "metadata": {
    "colab": {
      "provenance": [],
      "authorship_tag": "ABX9TyMmZUfDGk6wx/HXeyUl9X74",
      "include_colab_link": true
    },
    "kernelspec": {
      "name": "python3",
      "display_name": "Python 3"
    },
    "language_info": {
      "name": "python"
    }
  },
  "cells": [
    {
      "cell_type": "markdown",
      "metadata": {
        "id": "view-in-github",
        "colab_type": "text"
      },
      "source": [
        "<a href=\"https://colab.research.google.com/github/Belal-AI/Rev-Projects/blob/main/Kalmen_filter_Proto_type.ipynb\" target=\"_parent\"><img src=\"https://colab.research.google.com/assets/colab-badge.svg\" alt=\"Open In Colab\"/></a>"
      ]
    },
    {
      "cell_type": "code",
      "execution_count": 3,
      "metadata": {
        "colab": {
          "base_uri": "https://localhost:8080/"
        },
        "id": "urcQFeiGuzxW",
        "outputId": "4db1b7d3-0819-42da-819a-f6af47dd7858"
      },
      "outputs": [
        {
          "output_type": "stream",
          "name": "stdout",
          "text": [
            "updated :-  [4.998000799680128, 3.9984006397441023]\n",
            "predicted :-  [5.998000799680128, 5.998400639744102]\n",
            "updated :-  [5.999200191953932, 2.399744061425258]\n",
            "predicted :-  [6.999200191953932, 4.399744061425258]\n",
            "updated :-  [6.999619127420922, 2.0951800575117594]\n",
            "predicted :-  [8.999619127420921, 4.09518005751176]\n",
            "updated :-  [8.999811802788143, 2.0235152416216957]\n",
            "predicted :-  [9.999811802788143, 4.023515241621696]\n",
            "updated :-  [9.999906177177365, 2.0058615808441944]\n",
            "predicted :-  [10.999906177177365, 4.005861580844194]\n"
          ]
        }
      ],
      "source": [
        "# Write a program that will iteratively update and\n",
        "# predict based on the location measurements\n",
        "# and inferred motions shown below.\n",
        "\n",
        "def update(mean1, var1, mean2, var2):\n",
        "    new_mean = float(var2 * mean1 + var1 * mean2) / (var1 + var2)\n",
        "    new_var = 1./(1./var1 + 1./var2)\n",
        "    return [new_mean, new_var]\n",
        "\n",
        "def predict(mean1, var1, mean2, var2):\n",
        "    new_mean = mean1 + mean2\n",
        "    new_var = var1 + var2\n",
        "    return [new_mean, new_var]\n",
        "\n",
        "measurements = [5., 6., 7., 9., 10.]\n",
        "motion = [1., 1., 2., 1., 1.]\n",
        "measurement_sig = 4.\n",
        "motion_sig = 2.\n",
        "mu = 0.\n",
        "sig = 10000.\n",
        "\n",
        "#Please print out ONLY the final values of the mean\n",
        "#and the variance in a list [mu, sig].\n",
        "\n",
        "# Insert code here\n",
        "for n in range(len(measurements)):\n",
        "    [mu, sig] =update(mu,sig,measurements[n],measurement_sig)\n",
        "    print('updated :- ' , [mu, sig])\n",
        "    [mu,sig]=predict(mu,sig,motion[n],motion_sig)\n",
        "    print('predicted :- ' , [mu, sig])\n",
        "\n",
        "\n"
      ]
    },
    {
      "cell_type": "code",
      "source": [],
      "metadata": {
        "id": "eopwHqWjvGkh"
      },
      "execution_count": null,
      "outputs": []
    }
  ]
}