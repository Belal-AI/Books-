{
  "nbformat": 4,
  "nbformat_minor": 0,
  "metadata": {
    "colab": {
      "provenance": [],
      "gpuType": "T4",
      "authorship_tag": "ABX9TyNe4WSVu2mExjBzjtbcczas",
      "include_colab_link": true
    },
    "kernelspec": {
      "name": "python3",
      "display_name": "Python 3"
    },
    "language_info": {
      "name": "python"
    },
    "accelerator": "GPU",
    "gpuClass": "standard"
  },
  "cells": [
    {
      "cell_type": "markdown",
      "metadata": {
        "id": "view-in-github",
        "colab_type": "text"
      },
      "source": [
        "<a href=\"https://colab.research.google.com/github/Belal-AI/Rev-Projects/blob/main/mincraft_ensamble_methods.ipynb\" target=\"_parent\"><img src=\"https://colab.research.google.com/assets/colab-badge.svg\" alt=\"Open In Colab\"/></a>"
      ]
    },
    {
      "cell_type": "code",
      "execution_count": 70,
      "metadata": {
        "id": "8XyUboVtqAV-"
      },
      "outputs": [],
      "source": [
        "import pandas as pd\n",
        "import numpy as np\n",
        "import matplotlib.pyplot as plt\n",
        "import seaborn as sns\n",
        "from sklearn.preprocessing import LabelEncoder\n",
        "from sklearn.model_selection import StratifiedShuffleSplit ,cross_val_predict,cross_val_score\n",
        "from sklearn.metrics import precision_recall_curve,precision_score,recall_score\n",
        "from sklearn.linear_model import SGDClassifier\n",
        "from sklearn.impute import SimpleImputer"
      ]
    },
    {
      "cell_type": "markdown",
      "source": [
        "#Loading Data"
      ],
      "metadata": {
        "id": "zc6QQBWxHs6_"
      }
    },
    {
      "cell_type": "code",
      "source": [
        "data=pd.read_csv(\"/content/piracydataset.csv\")"
      ],
      "metadata": {
        "id": "Ioeu_r9ZqgDg"
      },
      "execution_count": 33,
      "outputs": []
    },
    {
      "cell_type": "code",
      "source": [
        "data"
      ],
      "metadata": {
        "colab": {
          "base_uri": "https://localhost:8080/",
          "height": 424
        },
        "id": "bnsoPYyvq0VO",
        "outputId": "29d7f1c7-a654-4d38-e24d-66108268618d"
      },
      "execution_count": 34,
      "outputs": [
        {
          "output_type": "execute_result",
          "data": {
            "text/plain": [
              "      Unnamed: 0   age                   discordid      minecraftid  \\\n",
              "0              0  14.0            ProGamer300#3331     ProGamer300    \n",
              "1              1  19.0                 @shrey#4934      shrey_jain_   \n",
              "2              2  18.0             Skullfaced#8657  Skullfaceddeath   \n",
              "3              3  17.0            Op DzGhOsT#8719      DzGHoST1737    \n",
              "4              4  15.0                Dwijesh#6020       Dwijesh YT   \n",
              "...          ...   ...                         ...              ...   \n",
              "1418        1418  17.0                     Savager       Asmitraj11   \n",
              "1419        1419  15.0  ( @KAMALTHESUPERBOY #6357)        kamal1112   \n",
              "1420        1420  17.0                ATHARVA#9034         SPIDEY_2   \n",
              "1421        1421  15.0            GOD_RANVEER#3462      GOD_RANVEER   \n",
              "1422        1422  14.0         ToughGamer2121#9555    Prachetan2008   \n",
              "\n",
              "                          client       version  \n",
              "0      Computer ( Java Edition )       Cracked  \n",
              "1      Computer ( Java Edition )       Cracked  \n",
              "2      Computer ( Java Edition )  Paid Version  \n",
              "3      Computer ( Java Edition )       Cracked  \n",
              "4     Mobile ( bedrock version )  Paid Version  \n",
              "...                          ...           ...  \n",
              "1418   Computer ( Java Edition )       Cracked  \n",
              "1419   Computer ( Java Edition )       Cracked  \n",
              "1420   Computer ( Java Edition )       Cracked  \n",
              "1421   Computer ( Java Edition )       Cracked  \n",
              "1422   Computer ( Java Edition )       Cracked  \n",
              "\n",
              "[1423 rows x 6 columns]"
            ],
            "text/html": [
              "\n",
              "  <div id=\"df-57bc191c-234f-4f4d-bbda-f29e03b64865\">\n",
              "    <div class=\"colab-df-container\">\n",
              "      <div>\n",
              "<style scoped>\n",
              "    .dataframe tbody tr th:only-of-type {\n",
              "        vertical-align: middle;\n",
              "    }\n",
              "\n",
              "    .dataframe tbody tr th {\n",
              "        vertical-align: top;\n",
              "    }\n",
              "\n",
              "    .dataframe thead th {\n",
              "        text-align: right;\n",
              "    }\n",
              "</style>\n",
              "<table border=\"1\" class=\"dataframe\">\n",
              "  <thead>\n",
              "    <tr style=\"text-align: right;\">\n",
              "      <th></th>\n",
              "      <th>Unnamed: 0</th>\n",
              "      <th>age</th>\n",
              "      <th>discordid</th>\n",
              "      <th>minecraftid</th>\n",
              "      <th>client</th>\n",
              "      <th>version</th>\n",
              "    </tr>\n",
              "  </thead>\n",
              "  <tbody>\n",
              "    <tr>\n",
              "      <th>0</th>\n",
              "      <td>0</td>\n",
              "      <td>14.0</td>\n",
              "      <td>ProGamer300#3331</td>\n",
              "      <td>ProGamer300</td>\n",
              "      <td>Computer ( Java Edition )</td>\n",
              "      <td>Cracked</td>\n",
              "    </tr>\n",
              "    <tr>\n",
              "      <th>1</th>\n",
              "      <td>1</td>\n",
              "      <td>19.0</td>\n",
              "      <td>@shrey#4934</td>\n",
              "      <td>shrey_jain_</td>\n",
              "      <td>Computer ( Java Edition )</td>\n",
              "      <td>Cracked</td>\n",
              "    </tr>\n",
              "    <tr>\n",
              "      <th>2</th>\n",
              "      <td>2</td>\n",
              "      <td>18.0</td>\n",
              "      <td>Skullfaced#8657</td>\n",
              "      <td>Skullfaceddeath</td>\n",
              "      <td>Computer ( Java Edition )</td>\n",
              "      <td>Paid Version</td>\n",
              "    </tr>\n",
              "    <tr>\n",
              "      <th>3</th>\n",
              "      <td>3</td>\n",
              "      <td>17.0</td>\n",
              "      <td>Op DzGhOsT#8719</td>\n",
              "      <td>DzGHoST1737</td>\n",
              "      <td>Computer ( Java Edition )</td>\n",
              "      <td>Cracked</td>\n",
              "    </tr>\n",
              "    <tr>\n",
              "      <th>4</th>\n",
              "      <td>4</td>\n",
              "      <td>15.0</td>\n",
              "      <td>Dwijesh#6020</td>\n",
              "      <td>Dwijesh YT</td>\n",
              "      <td>Mobile ( bedrock version )</td>\n",
              "      <td>Paid Version</td>\n",
              "    </tr>\n",
              "    <tr>\n",
              "      <th>...</th>\n",
              "      <td>...</td>\n",
              "      <td>...</td>\n",
              "      <td>...</td>\n",
              "      <td>...</td>\n",
              "      <td>...</td>\n",
              "      <td>...</td>\n",
              "    </tr>\n",
              "    <tr>\n",
              "      <th>1418</th>\n",
              "      <td>1418</td>\n",
              "      <td>17.0</td>\n",
              "      <td>Savager</td>\n",
              "      <td>Asmitraj11</td>\n",
              "      <td>Computer ( Java Edition )</td>\n",
              "      <td>Cracked</td>\n",
              "    </tr>\n",
              "    <tr>\n",
              "      <th>1419</th>\n",
              "      <td>1419</td>\n",
              "      <td>15.0</td>\n",
              "      <td>( @KAMALTHESUPERBOY #6357)</td>\n",
              "      <td>kamal1112</td>\n",
              "      <td>Computer ( Java Edition )</td>\n",
              "      <td>Cracked</td>\n",
              "    </tr>\n",
              "    <tr>\n",
              "      <th>1420</th>\n",
              "      <td>1420</td>\n",
              "      <td>17.0</td>\n",
              "      <td>ATHARVA#9034</td>\n",
              "      <td>SPIDEY_2</td>\n",
              "      <td>Computer ( Java Edition )</td>\n",
              "      <td>Cracked</td>\n",
              "    </tr>\n",
              "    <tr>\n",
              "      <th>1421</th>\n",
              "      <td>1421</td>\n",
              "      <td>15.0</td>\n",
              "      <td>GOD_RANVEER#3462</td>\n",
              "      <td>GOD_RANVEER</td>\n",
              "      <td>Computer ( Java Edition )</td>\n",
              "      <td>Cracked</td>\n",
              "    </tr>\n",
              "    <tr>\n",
              "      <th>1422</th>\n",
              "      <td>1422</td>\n",
              "      <td>14.0</td>\n",
              "      <td>ToughGamer2121#9555</td>\n",
              "      <td>Prachetan2008</td>\n",
              "      <td>Computer ( Java Edition )</td>\n",
              "      <td>Cracked</td>\n",
              "    </tr>\n",
              "  </tbody>\n",
              "</table>\n",
              "<p>1423 rows × 6 columns</p>\n",
              "</div>\n",
              "      <button class=\"colab-df-convert\" onclick=\"convertToInteractive('df-57bc191c-234f-4f4d-bbda-f29e03b64865')\"\n",
              "              title=\"Convert this dataframe to an interactive table.\"\n",
              "              style=\"display:none;\">\n",
              "        \n",
              "  <svg xmlns=\"http://www.w3.org/2000/svg\" height=\"24px\"viewBox=\"0 0 24 24\"\n",
              "       width=\"24px\">\n",
              "    <path d=\"M0 0h24v24H0V0z\" fill=\"none\"/>\n",
              "    <path d=\"M18.56 5.44l.94 2.06.94-2.06 2.06-.94-2.06-.94-.94-2.06-.94 2.06-2.06.94zm-11 1L8.5 8.5l.94-2.06 2.06-.94-2.06-.94L8.5 2.5l-.94 2.06-2.06.94zm10 10l.94 2.06.94-2.06 2.06-.94-2.06-.94-.94-2.06-.94 2.06-2.06.94z\"/><path d=\"M17.41 7.96l-1.37-1.37c-.4-.4-.92-.59-1.43-.59-.52 0-1.04.2-1.43.59L10.3 9.45l-7.72 7.72c-.78.78-.78 2.05 0 2.83L4 21.41c.39.39.9.59 1.41.59.51 0 1.02-.2 1.41-.59l7.78-7.78 2.81-2.81c.8-.78.8-2.07 0-2.86zM5.41 20L4 18.59l7.72-7.72 1.47 1.35L5.41 20z\"/>\n",
              "  </svg>\n",
              "      </button>\n",
              "      \n",
              "  <style>\n",
              "    .colab-df-container {\n",
              "      display:flex;\n",
              "      flex-wrap:wrap;\n",
              "      gap: 12px;\n",
              "    }\n",
              "\n",
              "    .colab-df-convert {\n",
              "      background-color: #E8F0FE;\n",
              "      border: none;\n",
              "      border-radius: 50%;\n",
              "      cursor: pointer;\n",
              "      display: none;\n",
              "      fill: #1967D2;\n",
              "      height: 32px;\n",
              "      padding: 0 0 0 0;\n",
              "      width: 32px;\n",
              "    }\n",
              "\n",
              "    .colab-df-convert:hover {\n",
              "      background-color: #E2EBFA;\n",
              "      box-shadow: 0px 1px 2px rgba(60, 64, 67, 0.3), 0px 1px 3px 1px rgba(60, 64, 67, 0.15);\n",
              "      fill: #174EA6;\n",
              "    }\n",
              "\n",
              "    [theme=dark] .colab-df-convert {\n",
              "      background-color: #3B4455;\n",
              "      fill: #D2E3FC;\n",
              "    }\n",
              "\n",
              "    [theme=dark] .colab-df-convert:hover {\n",
              "      background-color: #434B5C;\n",
              "      box-shadow: 0px 1px 3px 1px rgba(0, 0, 0, 0.15);\n",
              "      filter: drop-shadow(0px 1px 2px rgba(0, 0, 0, 0.3));\n",
              "      fill: #FFFFFF;\n",
              "    }\n",
              "  </style>\n",
              "\n",
              "      <script>\n",
              "        const buttonEl =\n",
              "          document.querySelector('#df-57bc191c-234f-4f4d-bbda-f29e03b64865 button.colab-df-convert');\n",
              "        buttonEl.style.display =\n",
              "          google.colab.kernel.accessAllowed ? 'block' : 'none';\n",
              "\n",
              "        async function convertToInteractive(key) {\n",
              "          const element = document.querySelector('#df-57bc191c-234f-4f4d-bbda-f29e03b64865');\n",
              "          const dataTable =\n",
              "            await google.colab.kernel.invokeFunction('convertToInteractive',\n",
              "                                                     [key], {});\n",
              "          if (!dataTable) return;\n",
              "\n",
              "          const docLinkHtml = 'Like what you see? Visit the ' +\n",
              "            '<a target=\"_blank\" href=https://colab.research.google.com/notebooks/data_table.ipynb>data table notebook</a>'\n",
              "            + ' to learn more about interactive tables.';\n",
              "          element.innerHTML = '';\n",
              "          dataTable['output_type'] = 'display_data';\n",
              "          await google.colab.output.renderOutput(dataTable, element);\n",
              "          const docLink = document.createElement('div');\n",
              "          docLink.innerHTML = docLinkHtml;\n",
              "          element.appendChild(docLink);\n",
              "        }\n",
              "      </script>\n",
              "    </div>\n",
              "  </div>\n",
              "  "
            ]
          },
          "metadata": {},
          "execution_count": 34
        }
      ]
    },
    {
      "cell_type": "markdown",
      "source": [
        "we should to map the values to numbers which 0 and 1 "
      ],
      "metadata": {
        "id": "AWsz-OH4Hxln"
      }
    },
    {
      "cell_type": "code",
      "source": [
        "encoder=LabelEncoder()\n",
        "data['version']=encoder.fit_transform(data['version'])"
      ],
      "metadata": {
        "id": "lLXx_sxjr7Yl"
      },
      "execution_count": 35,
      "outputs": []
    },
    {
      "cell_type": "code",
      "source": [
        "data"
      ],
      "metadata": {
        "colab": {
          "base_uri": "https://localhost:8080/",
          "height": 424
        },
        "id": "yPaLCBUBsIr1",
        "outputId": "09d43a97-1e9f-4888-c8ca-9e857be3d87a"
      },
      "execution_count": 36,
      "outputs": [
        {
          "output_type": "execute_result",
          "data": {
            "text/plain": [
              "      Unnamed: 0   age                   discordid      minecraftid  \\\n",
              "0              0  14.0            ProGamer300#3331     ProGamer300    \n",
              "1              1  19.0                 @shrey#4934      shrey_jain_   \n",
              "2              2  18.0             Skullfaced#8657  Skullfaceddeath   \n",
              "3              3  17.0            Op DzGhOsT#8719      DzGHoST1737    \n",
              "4              4  15.0                Dwijesh#6020       Dwijesh YT   \n",
              "...          ...   ...                         ...              ...   \n",
              "1418        1418  17.0                     Savager       Asmitraj11   \n",
              "1419        1419  15.0  ( @KAMALTHESUPERBOY #6357)        kamal1112   \n",
              "1420        1420  17.0                ATHARVA#9034         SPIDEY_2   \n",
              "1421        1421  15.0            GOD_RANVEER#3462      GOD_RANVEER   \n",
              "1422        1422  14.0         ToughGamer2121#9555    Prachetan2008   \n",
              "\n",
              "                          client  version  \n",
              "0      Computer ( Java Edition )        0  \n",
              "1      Computer ( Java Edition )        0  \n",
              "2      Computer ( Java Edition )        1  \n",
              "3      Computer ( Java Edition )        0  \n",
              "4     Mobile ( bedrock version )        1  \n",
              "...                          ...      ...  \n",
              "1418   Computer ( Java Edition )        0  \n",
              "1419   Computer ( Java Edition )        0  \n",
              "1420   Computer ( Java Edition )        0  \n",
              "1421   Computer ( Java Edition )        0  \n",
              "1422   Computer ( Java Edition )        0  \n",
              "\n",
              "[1423 rows x 6 columns]"
            ],
            "text/html": [
              "\n",
              "  <div id=\"df-cbc2349d-4cce-4925-8d60-23790bce011d\">\n",
              "    <div class=\"colab-df-container\">\n",
              "      <div>\n",
              "<style scoped>\n",
              "    .dataframe tbody tr th:only-of-type {\n",
              "        vertical-align: middle;\n",
              "    }\n",
              "\n",
              "    .dataframe tbody tr th {\n",
              "        vertical-align: top;\n",
              "    }\n",
              "\n",
              "    .dataframe thead th {\n",
              "        text-align: right;\n",
              "    }\n",
              "</style>\n",
              "<table border=\"1\" class=\"dataframe\">\n",
              "  <thead>\n",
              "    <tr style=\"text-align: right;\">\n",
              "      <th></th>\n",
              "      <th>Unnamed: 0</th>\n",
              "      <th>age</th>\n",
              "      <th>discordid</th>\n",
              "      <th>minecraftid</th>\n",
              "      <th>client</th>\n",
              "      <th>version</th>\n",
              "    </tr>\n",
              "  </thead>\n",
              "  <tbody>\n",
              "    <tr>\n",
              "      <th>0</th>\n",
              "      <td>0</td>\n",
              "      <td>14.0</td>\n",
              "      <td>ProGamer300#3331</td>\n",
              "      <td>ProGamer300</td>\n",
              "      <td>Computer ( Java Edition )</td>\n",
              "      <td>0</td>\n",
              "    </tr>\n",
              "    <tr>\n",
              "      <th>1</th>\n",
              "      <td>1</td>\n",
              "      <td>19.0</td>\n",
              "      <td>@shrey#4934</td>\n",
              "      <td>shrey_jain_</td>\n",
              "      <td>Computer ( Java Edition )</td>\n",
              "      <td>0</td>\n",
              "    </tr>\n",
              "    <tr>\n",
              "      <th>2</th>\n",
              "      <td>2</td>\n",
              "      <td>18.0</td>\n",
              "      <td>Skullfaced#8657</td>\n",
              "      <td>Skullfaceddeath</td>\n",
              "      <td>Computer ( Java Edition )</td>\n",
              "      <td>1</td>\n",
              "    </tr>\n",
              "    <tr>\n",
              "      <th>3</th>\n",
              "      <td>3</td>\n",
              "      <td>17.0</td>\n",
              "      <td>Op DzGhOsT#8719</td>\n",
              "      <td>DzGHoST1737</td>\n",
              "      <td>Computer ( Java Edition )</td>\n",
              "      <td>0</td>\n",
              "    </tr>\n",
              "    <tr>\n",
              "      <th>4</th>\n",
              "      <td>4</td>\n",
              "      <td>15.0</td>\n",
              "      <td>Dwijesh#6020</td>\n",
              "      <td>Dwijesh YT</td>\n",
              "      <td>Mobile ( bedrock version )</td>\n",
              "      <td>1</td>\n",
              "    </tr>\n",
              "    <tr>\n",
              "      <th>...</th>\n",
              "      <td>...</td>\n",
              "      <td>...</td>\n",
              "      <td>...</td>\n",
              "      <td>...</td>\n",
              "      <td>...</td>\n",
              "      <td>...</td>\n",
              "    </tr>\n",
              "    <tr>\n",
              "      <th>1418</th>\n",
              "      <td>1418</td>\n",
              "      <td>17.0</td>\n",
              "      <td>Savager</td>\n",
              "      <td>Asmitraj11</td>\n",
              "      <td>Computer ( Java Edition )</td>\n",
              "      <td>0</td>\n",
              "    </tr>\n",
              "    <tr>\n",
              "      <th>1419</th>\n",
              "      <td>1419</td>\n",
              "      <td>15.0</td>\n",
              "      <td>( @KAMALTHESUPERBOY #6357)</td>\n",
              "      <td>kamal1112</td>\n",
              "      <td>Computer ( Java Edition )</td>\n",
              "      <td>0</td>\n",
              "    </tr>\n",
              "    <tr>\n",
              "      <th>1420</th>\n",
              "      <td>1420</td>\n",
              "      <td>17.0</td>\n",
              "      <td>ATHARVA#9034</td>\n",
              "      <td>SPIDEY_2</td>\n",
              "      <td>Computer ( Java Edition )</td>\n",
              "      <td>0</td>\n",
              "    </tr>\n",
              "    <tr>\n",
              "      <th>1421</th>\n",
              "      <td>1421</td>\n",
              "      <td>15.0</td>\n",
              "      <td>GOD_RANVEER#3462</td>\n",
              "      <td>GOD_RANVEER</td>\n",
              "      <td>Computer ( Java Edition )</td>\n",
              "      <td>0</td>\n",
              "    </tr>\n",
              "    <tr>\n",
              "      <th>1422</th>\n",
              "      <td>1422</td>\n",
              "      <td>14.0</td>\n",
              "      <td>ToughGamer2121#9555</td>\n",
              "      <td>Prachetan2008</td>\n",
              "      <td>Computer ( Java Edition )</td>\n",
              "      <td>0</td>\n",
              "    </tr>\n",
              "  </tbody>\n",
              "</table>\n",
              "<p>1423 rows × 6 columns</p>\n",
              "</div>\n",
              "      <button class=\"colab-df-convert\" onclick=\"convertToInteractive('df-cbc2349d-4cce-4925-8d60-23790bce011d')\"\n",
              "              title=\"Convert this dataframe to an interactive table.\"\n",
              "              style=\"display:none;\">\n",
              "        \n",
              "  <svg xmlns=\"http://www.w3.org/2000/svg\" height=\"24px\"viewBox=\"0 0 24 24\"\n",
              "       width=\"24px\">\n",
              "    <path d=\"M0 0h24v24H0V0z\" fill=\"none\"/>\n",
              "    <path d=\"M18.56 5.44l.94 2.06.94-2.06 2.06-.94-2.06-.94-.94-2.06-.94 2.06-2.06.94zm-11 1L8.5 8.5l.94-2.06 2.06-.94-2.06-.94L8.5 2.5l-.94 2.06-2.06.94zm10 10l.94 2.06.94-2.06 2.06-.94-2.06-.94-.94-2.06-.94 2.06-2.06.94z\"/><path d=\"M17.41 7.96l-1.37-1.37c-.4-.4-.92-.59-1.43-.59-.52 0-1.04.2-1.43.59L10.3 9.45l-7.72 7.72c-.78.78-.78 2.05 0 2.83L4 21.41c.39.39.9.59 1.41.59.51 0 1.02-.2 1.41-.59l7.78-7.78 2.81-2.81c.8-.78.8-2.07 0-2.86zM5.41 20L4 18.59l7.72-7.72 1.47 1.35L5.41 20z\"/>\n",
              "  </svg>\n",
              "      </button>\n",
              "      \n",
              "  <style>\n",
              "    .colab-df-container {\n",
              "      display:flex;\n",
              "      flex-wrap:wrap;\n",
              "      gap: 12px;\n",
              "    }\n",
              "\n",
              "    .colab-df-convert {\n",
              "      background-color: #E8F0FE;\n",
              "      border: none;\n",
              "      border-radius: 50%;\n",
              "      cursor: pointer;\n",
              "      display: none;\n",
              "      fill: #1967D2;\n",
              "      height: 32px;\n",
              "      padding: 0 0 0 0;\n",
              "      width: 32px;\n",
              "    }\n",
              "\n",
              "    .colab-df-convert:hover {\n",
              "      background-color: #E2EBFA;\n",
              "      box-shadow: 0px 1px 2px rgba(60, 64, 67, 0.3), 0px 1px 3px 1px rgba(60, 64, 67, 0.15);\n",
              "      fill: #174EA6;\n",
              "    }\n",
              "\n",
              "    [theme=dark] .colab-df-convert {\n",
              "      background-color: #3B4455;\n",
              "      fill: #D2E3FC;\n",
              "    }\n",
              "\n",
              "    [theme=dark] .colab-df-convert:hover {\n",
              "      background-color: #434B5C;\n",
              "      box-shadow: 0px 1px 3px 1px rgba(0, 0, 0, 0.15);\n",
              "      filter: drop-shadow(0px 1px 2px rgba(0, 0, 0, 0.3));\n",
              "      fill: #FFFFFF;\n",
              "    }\n",
              "  </style>\n",
              "\n",
              "      <script>\n",
              "        const buttonEl =\n",
              "          document.querySelector('#df-cbc2349d-4cce-4925-8d60-23790bce011d button.colab-df-convert');\n",
              "        buttonEl.style.display =\n",
              "          google.colab.kernel.accessAllowed ? 'block' : 'none';\n",
              "\n",
              "        async function convertToInteractive(key) {\n",
              "          const element = document.querySelector('#df-cbc2349d-4cce-4925-8d60-23790bce011d');\n",
              "          const dataTable =\n",
              "            await google.colab.kernel.invokeFunction('convertToInteractive',\n",
              "                                                     [key], {});\n",
              "          if (!dataTable) return;\n",
              "\n",
              "          const docLinkHtml = 'Like what you see? Visit the ' +\n",
              "            '<a target=\"_blank\" href=https://colab.research.google.com/notebooks/data_table.ipynb>data table notebook</a>'\n",
              "            + ' to learn more about interactive tables.';\n",
              "          element.innerHTML = '';\n",
              "          dataTable['output_type'] = 'display_data';\n",
              "          await google.colab.output.renderOutput(dataTable, element);\n",
              "          const docLink = document.createElement('div');\n",
              "          docLink.innerHTML = docLinkHtml;\n",
              "          element.appendChild(docLink);\n",
              "        }\n",
              "      </script>\n",
              "    </div>\n",
              "  </div>\n",
              "  "
            ]
          },
          "metadata": {},
          "execution_count": 36
        }
      ]
    },
    {
      "cell_type": "markdown",
      "source": [
        "- if we took a look at the data balancing we will get that the data was not balanced which is mean that there is a probability for more bias to the dominant class"
      ],
      "metadata": {
        "id": "nGtqFLajIQee"
      }
    },
    {
      "cell_type": "code",
      "source": [
        "sns.distplot(data['version'])"
      ],
      "metadata": {
        "colab": {
          "base_uri": "https://localhost:8080/",
          "height": 657
        },
        "id": "cB2tHPpRsfHd",
        "outputId": "0dc299e1-72cf-4d2c-d9f8-85fcfd90b608"
      },
      "execution_count": 37,
      "outputs": [
        {
          "output_type": "stream",
          "name": "stderr",
          "text": [
            "<ipython-input-37-ad15a41e6fc9>:1: UserWarning: \n",
            "\n",
            "`distplot` is a deprecated function and will be removed in seaborn v0.14.0.\n",
            "\n",
            "Please adapt your code to use either `displot` (a figure-level function with\n",
            "similar flexibility) or `histplot` (an axes-level function for histograms).\n",
            "\n",
            "For a guide to updating your code to use the new functions, please see\n",
            "https://gist.github.com/mwaskom/de44147ed2974457ad6372750bbe5751\n",
            "\n",
            "  sns.distplot(data['version'])\n"
          ]
        },
        {
          "output_type": "execute_result",
          "data": {
            "text/plain": [
              "<Axes: xlabel='version', ylabel='Density'>"
            ]
          },
          "metadata": {},
          "execution_count": 37
        },
        {
          "output_type": "display_data",
          "data": {
            "text/plain": [
              "<Figure size 640x480 with 1 Axes>"
            ],
            "image/png": "[encoded data removed]"
          },
          "metadata": {}
        }
      ]
    },
    {
      "cell_type": "markdown",
      "source": [
        "- so there is alot of sloutions to handel it \n",
        " \n",
        "\n",
        "1.   use SMOTE algo to up sample the data\n",
        "2.   use SMOTE algo to down sample the data\n",
        "3.   move the threshold manually to high percetion and low recall ...for sure it will lead the model to predict un-hacked versions that hacked but it more better than if it miss the hacking one and treat with it as un-hacked.(Our way)\n",
        "\n"
      ],
      "metadata": {
        "id": "i0Kusy2iJoqW"
      }
    },
    {
      "cell_type": "markdown",
      "source": [
        "- tha data has 1 valu is None but others is NaN and we will handel both by the most frequent"
      ],
      "metadata": {
        "id": "PhKCYQwmKoq1"
      }
    },
    {
      "cell_type": "code",
      "source": [
        "data.isna().sum()"
      ],
      "metadata": {
        "colab": {
          "base_uri": "https://localhost:8080/"
        },
        "id": "K9zNUujCtWdV",
        "outputId": "0da6aa17-0d69-43b2-8872-ef9ef6f5404f"
      },
      "execution_count": 38,
      "outputs": [
        {
          "output_type": "execute_result",
          "data": {
            "text/plain": [
              "Unnamed: 0     0\n",
              "age            1\n",
              "discordid      0\n",
              "minecraftid    0\n",
              "client         0\n",
              "version        0\n",
              "dtype: int64"
            ]
          },
          "metadata": {},
          "execution_count": 38
        }
      ]
    },
    {
      "cell_type": "code",
      "source": [
        "imp=SimpleImputer(missing_values=np.nan, strategy='most_frequent')\n",
        "data=imp.fit_transform(data)"
      ],
      "metadata": {
        "id": "U6bhwmxq_FNa"
      },
      "execution_count": 39,
      "outputs": []
    },
    {
      "cell_type": "code",
      "source": [
        "data=pd.DataFrame(data=data,columns=[\"Unnamed: 0\",\"age\",\"discordid\",\"minecraftid\",\"client\",\"version\"])\n",
        "data"
      ],
      "metadata": {
        "colab": {
          "base_uri": "https://localhost:8080/",
          "height": 424
        },
        "id": "SlCI7RWpAPFr",
        "outputId": "b5fed750-1b0c-415d-8f47-414618c62052"
      },
      "execution_count": 40,
      "outputs": [
        {
          "output_type": "execute_result",
          "data": {
            "text/plain": [
              "     Unnamed: 0   age                   discordid      minecraftid  \\\n",
              "0             0  14.0            ProGamer300#3331     ProGamer300    \n",
              "1             1  19.0                 @shrey#4934      shrey_jain_   \n",
              "2             2  18.0             Skullfaced#8657  Skullfaceddeath   \n",
              "3             3  17.0            Op DzGhOsT#8719      DzGHoST1737    \n",
              "4             4  15.0                Dwijesh#6020       Dwijesh YT   \n",
              "...         ...   ...                         ...              ...   \n",
              "1418       1418  17.0                     Savager       Asmitraj11   \n",
              "1419       1419  15.0  ( @KAMALTHESUPERBOY #6357)        kamal1112   \n",
              "1420       1420  17.0                ATHARVA#9034         SPIDEY_2   \n",
              "1421       1421  15.0            GOD_RANVEER#3462      GOD_RANVEER   \n",
              "1422       1422  14.0         ToughGamer2121#9555    Prachetan2008   \n",
              "\n",
              "                          client version  \n",
              "0      Computer ( Java Edition )       0  \n",
              "1      Computer ( Java Edition )       0  \n",
              "2      Computer ( Java Edition )       1  \n",
              "3      Computer ( Java Edition )       0  \n",
              "4     Mobile ( bedrock version )       1  \n",
              "...                          ...     ...  \n",
              "1418   Computer ( Java Edition )       0  \n",
              "1419   Computer ( Java Edition )       0  \n",
              "1420   Computer ( Java Edition )       0  \n",
              "1421   Computer ( Java Edition )       0  \n",
              "1422   Computer ( Java Edition )       0  \n",
              "\n",
              "[1423 rows x 6 columns]"
            ],
            "text/html": [
              "\n",
              "  <div id=\"df-332ec055-789e-46fd-9c57-cc4a5f3937c2\">\n",
              "    <div class=\"colab-df-container\">\n",
              "      <div>\n",
              "<style scoped>\n",
              "    .dataframe tbody tr th:only-of-type {\n",
              "        vertical-align: middle;\n",
              "    }\n",
              "\n",
              "    .dataframe tbody tr th {\n",
              "        vertical-align: top;\n",
              "    }\n",
              "\n",
              "    .dataframe thead th {\n",
              "        text-align: right;\n",
              "    }\n",
              "</style>\n",
              "<table border=\"1\" class=\"dataframe\">\n",
              "  <thead>\n",
              "    <tr style=\"text-align: right;\">\n",
              "      <th></th>\n",
              "      <th>Unnamed: 0</th>\n",
              "      <th>age</th>\n",
              "      <th>discordid</th>\n",
              "      <th>minecraftid</th>\n",
              "      <th>client</th>\n",
              "      <th>version</th>\n",
              "    </tr>\n",
              "  </thead>\n",
              "  <tbody>\n",
              "    <tr>\n",
              "      <th>0</th>\n",
              "      <td>0</td>\n",
              "      <td>14.0</td>\n",
              "      <td>ProGamer300#3331</td>\n",
              "      <td>ProGamer300</td>\n",
              "      <td>Computer ( Java Edition )</td>\n",
              "      <td>0</td>\n",
              "    </tr>\n",
              "    <tr>\n",
              "      <th>1</th>\n",
              "      <td>1</td>\n",
              "      <td>19.0</td>\n",
              "      <td>@shrey#4934</td>\n",
              "      <td>shrey_jain_</td>\n",
              "      <td>Computer ( Java Edition )</td>\n",
              "      <td>0</td>\n",
              "    </tr>\n",
              "    <tr>\n",
              "      <th>2</th>\n",
              "      <td>2</td>\n",
              "      <td>18.0</td>\n",
              "      <td>Skullfaced#8657</td>\n",
              "      <td>Skullfaceddeath</td>\n",
              "      <td>Computer ( Java Edition )</td>\n",
              "      <td>1</td>\n",
              "    </tr>\n",
              "    <tr>\n",
              "      <th>3</th>\n",
              "      <td>3</td>\n",
              "      <td>17.0</td>\n",
              "      <td>Op DzGhOsT#8719</td>\n",
              "      <td>DzGHoST1737</td>\n",
              "      <td>Computer ( Java Edition )</td>\n",
              "      <td>0</td>\n",
              "    </tr>\n",
              "    <tr>\n",
              "      <th>4</th>\n",
              "      <td>4</td>\n",
              "      <td>15.0</td>\n",
              "      <td>Dwijesh#6020</td>\n",
              "      <td>Dwijesh YT</td>\n",
              "      <td>Mobile ( bedrock version )</td>\n",
              "      <td>1</td>\n",
              "    </tr>\n",
              "    <tr>\n",
              "      <th>...</th>\n",
              "      <td>...</td>\n",
              "      <td>...</td>\n",
              "      <td>...</td>\n",
              "      <td>...</td>\n",
              "      <td>...</td>\n",
              "      <td>...</td>\n",
              "    </tr>\n",
              "    <tr>\n",
              "      <th>1418</th>\n",
              "      <td>1418</td>\n",
              "      <td>17.0</td>\n",
              "      <td>Savager</td>\n",
              "      <td>Asmitraj11</td>\n",
              "      <td>Computer ( Java Edition )</td>\n",
              "      <td>0</td>\n",
              "    </tr>\n",
              "    <tr>\n",
              "      <th>1419</th>\n",
              "      <td>1419</td>\n",
              "      <td>15.0</td>\n",
              "      <td>( @KAMALTHESUPERBOY #6357)</td>\n",
              "      <td>kamal1112</td>\n",
              "      <td>Computer ( Java Edition )</td>\n",
              "      <td>0</td>\n",
              "    </tr>\n",
              "    <tr>\n",
              "      <th>1420</th>\n",
              "      <td>1420</td>\n",
              "      <td>17.0</td>\n",
              "      <td>ATHARVA#9034</td>\n",
              "      <td>SPIDEY_2</td>\n",
              "      <td>Computer ( Java Edition )</td>\n",
              "      <td>0</td>\n",
              "    </tr>\n",
              "    <tr>\n",
              "      <th>1421</th>\n",
              "      <td>1421</td>\n",
              "      <td>15.0</td>\n",
              "      <td>GOD_RANVEER#3462</td>\n",
              "      <td>GOD_RANVEER</td>\n",
              "      <td>Computer ( Java Edition )</td>\n",
              "      <td>0</td>\n",
              "    </tr>\n",
              "    <tr>\n",
              "      <th>1422</th>\n",
              "      <td>1422</td>\n",
              "      <td>14.0</td>\n",
              "      <td>ToughGamer2121#9555</td>\n",
              "      <td>Prachetan2008</td>\n",
              "      <td>Computer ( Java Edition )</td>\n",
              "      <td>0</td>\n",
              "    </tr>\n",
              "  </tbody>\n",
              "</table>\n",
              "<p>1423 rows × 6 columns</p>\n",
              "</div>\n",
              "      <button class=\"colab-df-convert\" onclick=\"convertToInteractive('df-332ec055-789e-46fd-9c57-cc4a5f3937c2')\"\n",
              "              title=\"Convert this dataframe to an interactive table.\"\n",
              "              style=\"display:none;\">\n",
              "        \n",
              "  <svg xmlns=\"http://www.w3.org/2000/svg\" height=\"24px\"viewBox=\"0 0 24 24\"\n",
              "       width=\"24px\">\n",
              "    <path d=\"M0 0h24v24H0V0z\" fill=\"none\"/>\n",
              "    <path d=\"M18.56 5.44l.94 2.06.94-2.06 2.06-.94-2.06-.94-.94-2.06-.94 2.06-2.06.94zm-11 1L8.5 8.5l.94-2.06 2.06-.94-2.06-.94L8.5 2.5l-.94 2.06-2.06.94zm10 10l.94 2.06.94-2.06 2.06-.94-2.06-.94-.94-2.06-.94 2.06-2.06.94z\"/><path d=\"M17.41 7.96l-1.37-1.37c-.4-.4-.92-.59-1.43-.59-.52 0-1.04.2-1.43.59L10.3 9.45l-7.72 7.72c-.78.78-.78 2.05 0 2.83L4 21.41c.39.39.9.59 1.41.59.51 0 1.02-.2 1.41-.59l7.78-7.78 2.81-2.81c.8-.78.8-2.07 0-2.86zM5.41 20L4 18.59l7.72-7.72 1.47 1.35L5.41 20z\"/>\n",
              "  </svg>\n",
              "      </button>\n",
              "      \n",
              "  <style>\n",
              "    .colab-df-container {\n",
              "      display:flex;\n",
              "      flex-wrap:wrap;\n",
              "      gap: 12px;\n",
              "    }\n",
              "\n",
              "    .colab-df-convert {\n",
              "      background-color: #E8F0FE;\n",
              "      border: none;\n",
              "      border-radius: 50%;\n",
              "      cursor: pointer;\n",
              "      display: none;\n",
              "      fill: #1967D2;\n",
              "      height: 32px;\n",
              "      padding: 0 0 0 0;\n",
              "      width: 32px;\n",
              "    }\n",
              "\n",
              "    .colab-df-convert:hover {\n",
              "      background-color: #E2EBFA;\n",
              "      box-shadow: 0px 1px 2px rgba(60, 64, 67, 0.3), 0px 1px 3px 1px rgba(60, 64, 67, 0.15);\n",
              "      fill: #174EA6;\n",
              "    }\n",
              "\n",
              "    [theme=dark] .colab-df-convert {\n",
              "      background-color: #3B4455;\n",
              "      fill: #D2E3FC;\n",
              "    }\n",
              "\n",
              "    [theme=dark] .colab-df-convert:hover {\n",
              "      background-color: #434B5C;\n",
              "      box-shadow: 0px 1px 3px 1px rgba(0, 0, 0, 0.15);\n",
              "      filter: drop-shadow(0px 1px 2px rgba(0, 0, 0, 0.3));\n",
              "      fill: #FFFFFF;\n",
              "    }\n",
              "  </style>\n",
              "\n",
              "      <script>\n",
              "        const buttonEl =\n",
              "          document.querySelector('#df-332ec055-789e-46fd-9c57-cc4a5f3937c2 button.colab-df-convert');\n",
              "        buttonEl.style.display =\n",
              "          google.colab.kernel.accessAllowed ? 'block' : 'none';\n",
              "\n",
              "        async function convertToInteractive(key) {\n",
              "          const element = document.querySelector('#df-332ec055-789e-46fd-9c57-cc4a5f3937c2');\n",
              "          const dataTable =\n",
              "            await google.colab.kernel.invokeFunction('convertToInteractive',\n",
              "                                                     [key], {});\n",
              "          if (!dataTable) return;\n",
              "\n",
              "          const docLinkHtml = 'Like what you see? Visit the ' +\n",
              "            '<a target=\"_blank\" href=https://colab.research.google.com/notebooks/data_table.ipynb>data table notebook</a>'\n",
              "            + ' to learn more about interactive tables.';\n",
              "          element.innerHTML = '';\n",
              "          dataTable['output_type'] = 'display_data';\n",
              "          await google.colab.output.renderOutput(dataTable, element);\n",
              "          const docLink = document.createElement('div');\n",
              "          docLink.innerHTML = docLinkHtml;\n",
              "          element.appendChild(docLink);\n",
              "        }\n",
              "      </script>\n",
              "    </div>\n",
              "  </div>\n",
              "  "
            ]
          },
          "metadata": {},
          "execution_count": 40
        }
      ]
    },
    {
      "cell_type": "code",
      "source": [
        "data.fillna(data[\"age\"].mode,inplace=True)"
      ],
      "metadata": {
        "id": "cyJ2bkEMtf9U"
      },
      "execution_count": 41,
      "outputs": []
    },
    {
      "cell_type": "code",
      "source": [
        "data.isna().sum()"
      ],
      "metadata": {
        "colab": {
          "base_uri": "https://localhost:8080/"
        },
        "id": "blvPLSCLt5h8",
        "outputId": "618e679f-882f-4b2d-d8b3-cb965277e927"
      },
      "execution_count": 42,
      "outputs": [
        {
          "output_type": "execute_result",
          "data": {
            "text/plain": [
              "Unnamed: 0     0\n",
              "age            0\n",
              "discordid      0\n",
              "minecraftid    0\n",
              "client         0\n",
              "version        0\n",
              "dtype: int64"
            ]
          },
          "metadata": {},
          "execution_count": 42
        }
      ]
    },
    {
      "cell_type": "markdown",
      "source": [
        "- we can drop the \"Unnamed: 0\",\"discord\",\"Minecraft\" columns cause as mentioned in description the personal data columns are added as dummies and do not represent the real details "
      ],
      "metadata": {
        "id": "lo5tkjM0K8lN"
      }
    },
    {
      "cell_type": "code",
      "source": [
        "data.drop([\"Unnamed: 0\",\"discordid\",\"minecraftid\"],axis=1,inplace=True)"
      ],
      "metadata": {
        "id": "948y0nwRt9VM"
      },
      "execution_count": 43,
      "outputs": []
    },
    {
      "cell_type": "code",
      "source": [
        "data['age'] = pd.to_numeric(data['age'], errors='coerce')"
      ],
      "metadata": {
        "id": "1CifuOV0z1er"
      },
      "execution_count": 44,
      "outputs": []
    },
    {
      "cell_type": "code",
      "source": [
        "data.info()"
      ],
      "metadata": {
        "colab": {
          "base_uri": "https://localhost:8080/"
        },
        "id": "pYNijyFX02OY",
        "outputId": "44ef1b76-c037-43b8-8b79-7b9a05bed89f"
      },
      "execution_count": 45,
      "outputs": [
        {
          "output_type": "stream",
          "name": "stdout",
          "text": [
            "<class 'pandas.core.frame.DataFrame'>\n",
            "RangeIndex: 1423 entries, 0 to 1422\n",
            "Data columns (total 3 columns):\n",
            " #   Column   Non-Null Count  Dtype  \n",
            "---  ------   --------------  -----  \n",
            " 0   age      1423 non-null   float64\n",
            " 1   client   1423 non-null   object \n",
            " 2   version  1423 non-null   object \n",
            "dtypes: float64(1), object(2)\n",
            "memory usage: 33.5+ KB\n"
          ]
        }
      ]
    },
    {
      "cell_type": "code",
      "source": [
        "data=pd.get_dummies(data=data,drop_first=True)"
      ],
      "metadata": {
        "colab": {
          "base_uri": "https://localhost:8080/"
        },
        "id": "-Z2o7iIS3ksP",
        "outputId": "af3efcee-df73-4719-b6ff-ccad3013acff"
      },
      "execution_count": 46,
      "outputs": [
        {
          "output_type": "stream",
          "name": "stderr",
          "text": [
            "<ipython-input-46-baa5398c3624>:1: FutureWarning: In a future version, the Index constructor will not infer numeric dtypes when passed object-dtype sequences (matching Series behavior)\n",
            "  data=pd.get_dummies(data=data,drop_first=True)\n"
          ]
        }
      ]
    },
    {
      "cell_type": "code",
      "source": [
        "data"
      ],
      "metadata": {
        "colab": {
          "base_uri": "https://localhost:8080/",
          "height": 424
        },
        "id": "gck7dy8o32Nw",
        "outputId": "c8875b3d-b49a-4287-ab27-c5cb420c72e4"
      },
      "execution_count": 47,
      "outputs": [
        {
          "output_type": "execute_result",
          "data": {
            "text/plain": [
              "       age  client_Mobile ( bedrock version )  version_1\n",
              "0     14.0                                  0          0\n",
              "1     19.0                                  0          0\n",
              "2     18.0                                  0          1\n",
              "3     17.0                                  0          0\n",
              "4     15.0                                  1          1\n",
              "...    ...                                ...        ...\n",
              "1418  17.0                                  0          0\n",
              "1419  15.0                                  0          0\n",
              "1420  17.0                                  0          0\n",
              "1421  15.0                                  0          0\n",
              "1422  14.0                                  0          0\n",
              "\n",
              "[1423 rows x 3 columns]"
            ],
            "text/html": [
              "\n",
              "  <div id=\"df-260ca8d7-08b5-4f62-8aff-1bb4846a2ec6\">\n",
              "    <div class=\"colab-df-container\">\n",
              "      <div>\n",
              "<style scoped>\n",
              "    .dataframe tbody tr th:only-of-type {\n",
              "        vertical-align: middle;\n",
              "    }\n",
              "\n",
              "    .dataframe tbody tr th {\n",
              "        vertical-align: top;\n",
              "    }\n",
              "\n",
              "    .dataframe thead th {\n",
              "        text-align: right;\n",
              "    }\n",
              "</style>\n",
              "<table border=\"1\" class=\"dataframe\">\n",
              "  <thead>\n",
              "    <tr style=\"text-align: right;\">\n",
              "      <th></th>\n",
              "      <th>age</th>\n",
              "      <th>client_Mobile ( bedrock version )</th>\n",
              "      <th>version_1</th>\n",
              "    </tr>\n",
              "  </thead>\n",
              "  <tbody>\n",
              "    <tr>\n",
              "      <th>0</th>\n",
              "      <td>14.0</td>\n",
              "      <td>0</td>\n",
              "      <td>0</td>\n",
              "    </tr>\n",
              "    <tr>\n",
              "      <th>1</th>\n",
              "      <td>19.0</td>\n",
              "      <td>0</td>\n",
              "      <td>0</td>\n",
              "    </tr>\n",
              "    <tr>\n",
              "      <th>2</th>\n",
              "      <td>18.0</td>\n",
              "      <td>0</td>\n",
              "      <td>1</td>\n",
              "    </tr>\n",
              "    <tr>\n",
              "      <th>3</th>\n",
              "      <td>17.0</td>\n",
              "      <td>0</td>\n",
              "      <td>0</td>\n",
              "    </tr>\n",
              "    <tr>\n",
              "      <th>4</th>\n",
              "      <td>15.0</td>\n",
              "      <td>1</td>\n",
              "      <td>1</td>\n",
              "    </tr>\n",
              "    <tr>\n",
              "      <th>...</th>\n",
              "      <td>...</td>\n",
              "      <td>...</td>\n",
              "      <td>...</td>\n",
              "    </tr>\n",
              "    <tr>\n",
              "      <th>1418</th>\n",
              "      <td>17.0</td>\n",
              "      <td>0</td>\n",
              "      <td>0</td>\n",
              "    </tr>\n",
              "    <tr>\n",
              "      <th>1419</th>\n",
              "      <td>15.0</td>\n",
              "      <td>0</td>\n",
              "      <td>0</td>\n",
              "    </tr>\n",
              "    <tr>\n",
              "      <th>1420</th>\n",
              "      <td>17.0</td>\n",
              "      <td>0</td>\n",
              "      <td>0</td>\n",
              "    </tr>\n",
              "    <tr>\n",
              "      <th>1421</th>\n",
              "      <td>15.0</td>\n",
              "      <td>0</td>\n",
              "      <td>0</td>\n",
              "    </tr>\n",
              "    <tr>\n",
              "      <th>1422</th>\n",
              "      <td>14.0</td>\n",
              "      <td>0</td>\n",
              "      <td>0</td>\n",
              "    </tr>\n",
              "  </tbody>\n",
              "</table>\n",
              "<p>1423 rows × 3 columns</p>\n",
              "</div>\n",
              "      <button class=\"colab-df-convert\" onclick=\"convertToInteractive('df-260ca8d7-08b5-4f62-8aff-1bb4846a2ec6')\"\n",
              "              title=\"Convert this dataframe to an interactive table.\"\n",
              "              style=\"display:none;\">\n",
              "        \n",
              "  <svg xmlns=\"http://www.w3.org/2000/svg\" height=\"24px\"viewBox=\"0 0 24 24\"\n",
              "       width=\"24px\">\n",
              "    <path d=\"M0 0h24v24H0V0z\" fill=\"none\"/>\n",
              "    <path d=\"M18.56 5.44l.94 2.06.94-2.06 2.06-.94-2.06-.94-.94-2.06-.94 2.06-2.06.94zm-11 1L8.5 8.5l.94-2.06 2.06-.94-2.06-.94L8.5 2.5l-.94 2.06-2.06.94zm10 10l.94 2.06.94-2.06 2.06-.94-2.06-.94-.94-2.06-.94 2.06-2.06.94z\"/><path d=\"M17.41 7.96l-1.37-1.37c-.4-.4-.92-.59-1.43-.59-.52 0-1.04.2-1.43.59L10.3 9.45l-7.72 7.72c-.78.78-.78 2.05 0 2.83L4 21.41c.39.39.9.59 1.41.59.51 0 1.02-.2 1.41-.59l7.78-7.78 2.81-2.81c.8-.78.8-2.07 0-2.86zM5.41 20L4 18.59l7.72-7.72 1.47 1.35L5.41 20z\"/>\n",
              "  </svg>\n",
              "      </button>\n",
              "      \n",
              "  <style>\n",
              "    .colab-df-container {\n",
              "      display:flex;\n",
              "      flex-wrap:wrap;\n",
              "      gap: 12px;\n",
              "    }\n",
              "\n",
              "    .colab-df-convert {\n",
              "      background-color: #E8F0FE;\n",
              "      border: none;\n",
              "      border-radius: 50%;\n",
              "      cursor: pointer;\n",
              "      display: none;\n",
              "      fill: #1967D2;\n",
              "      height: 32px;\n",
              "      padding: 0 0 0 0;\n",
              "      width: 32px;\n",
              "    }\n",
              "\n",
              "    .colab-df-convert:hover {\n",
              "      background-color: #E2EBFA;\n",
              "      box-shadow: 0px 1px 2px rgba(60, 64, 67, 0.3), 0px 1px 3px 1px rgba(60, 64, 67, 0.15);\n",
              "      fill: #174EA6;\n",
              "    }\n",
              "\n",
              "    [theme=dark] .colab-df-convert {\n",
              "      background-color: #3B4455;\n",
              "      fill: #D2E3FC;\n",
              "    }\n",
              "\n",
              "    [theme=dark] .colab-df-convert:hover {\n",
              "      background-color: #434B5C;\n",
              "      box-shadow: 0px 1px 3px 1px rgba(0, 0, 0, 0.15);\n",
              "      filter: drop-shadow(0px 1px 2px rgba(0, 0, 0, 0.3));\n",
              "      fill: #FFFFFF;\n",
              "    }\n",
              "  </style>\n",
              "\n",
              "      <script>\n",
              "        const buttonEl =\n",
              "          document.querySelector('#df-260ca8d7-08b5-4f62-8aff-1bb4846a2ec6 button.colab-df-convert');\n",
              "        buttonEl.style.display =\n",
              "          google.colab.kernel.accessAllowed ? 'block' : 'none';\n",
              "\n",
              "        async function convertToInteractive(key) {\n",
              "          const element = document.querySelector('#df-260ca8d7-08b5-4f62-8aff-1bb4846a2ec6');\n",
              "          const dataTable =\n",
              "            await google.colab.kernel.invokeFunction('convertToInteractive',\n",
              "                                                     [key], {});\n",
              "          if (!dataTable) return;\n",
              "\n",
              "          const docLinkHtml = 'Like what you see? Visit the ' +\n",
              "            '<a target=\"_blank\" href=https://colab.research.google.com/notebooks/data_table.ipynb>data table notebook</a>'\n",
              "            + ' to learn more about interactive tables.';\n",
              "          element.innerHTML = '';\n",
              "          dataTable['output_type'] = 'display_data';\n",
              "          await google.colab.output.renderOutput(dataTable, element);\n",
              "          const docLink = document.createElement('div');\n",
              "          docLink.innerHTML = docLinkHtml;\n",
              "          element.appendChild(docLink);\n",
              "        }\n",
              "      </script>\n",
              "    </div>\n",
              "  </div>\n",
              "  "
            ]
          },
          "metadata": {},
          "execution_count": 47
        }
      ]
    },
    {
      "cell_type": "markdown",
      "source": [
        "-StratifiedShuffleSplit is a combination of both ShuffleSplit and StratifiedKFold. Using StratifiedShuffleSplit the proportion of distribution of class labels is almost even between train and test dataset. The major difference between StratifiedShuffleSplit and StratifiedKFold (shuffle=True) is that in StratifiedKFold, the dataset is shuffled only once in the beginning and then split into the specified number of folds. This discards any chances of overlapping of the train-test sets. \n",
        "However, in StratifiedShuffleSplit the data is shuffled each time before the split is done and this is why there’s a greater chance that overlapping might be possible between train-test sets. "
      ],
      "metadata": {
        "id": "o1OtC7N1Lo_F"
      }
    },
    {
      "cell_type": "code",
      "source": [
        "spliter=StratifiedShuffleSplit(n_splits=5)\n",
        "for trainidx,testidx in spliter.split(data.iloc[:,:-1],data.iloc[:,-1]):\n",
        "  trainx=data.iloc[trainidx,:]\n",
        "  trainy=data.iloc[trainidx,-1]\n",
        "  testx=data.iloc[testidx,:]\n",
        "  testy=data.iloc[testidx,-1]\n"
      ],
      "metadata": {
        "id": "1C_G_fNp4cln"
      },
      "execution_count": 48,
      "outputs": []
    },
    {
      "cell_type": "code",
      "source": [
        "trainx.shape"
      ],
      "metadata": {
        "colab": {
          "base_uri": "https://localhost:8080/"
        },
        "id": "FHbBRDbH5G3e",
        "outputId": "6f6c4425-1b01-4a37-b8cb-945c2f5ae724"
      },
      "execution_count": 49,
      "outputs": [
        {
          "output_type": "execute_result",
          "data": {
            "text/plain": [
              "(1280, 3)"
            ]
          },
          "metadata": {},
          "execution_count": 49
        }
      ]
    },
    {
      "cell_type": "code",
      "source": [
        "trainy.shape"
      ],
      "metadata": {
        "colab": {
          "base_uri": "https://localhost:8080/"
        },
        "id": "Y6WjcdSr6r3W",
        "outputId": "faf1ad59-8b34-4734-8188-e721826a2f5a"
      },
      "execution_count": 50,
      "outputs": [
        {
          "output_type": "execute_result",
          "data": {
            "text/plain": [
              "(1280,)"
            ]
          },
          "metadata": {},
          "execution_count": 50
        }
      ]
    },
    {
      "cell_type": "code",
      "source": [
        "testx.shape"
      ],
      "metadata": {
        "colab": {
          "base_uri": "https://localhost:8080/"
        },
        "id": "obR4Irmw6tzO",
        "outputId": "62f92d9f-d7aa-41fe-ca8e-502cc58b0316"
      },
      "execution_count": 51,
      "outputs": [
        {
          "output_type": "execute_result",
          "data": {
            "text/plain": [
              "(143, 3)"
            ]
          },
          "metadata": {},
          "execution_count": 51
        }
      ]
    },
    {
      "cell_type": "code",
      "source": [
        "testy.shape"
      ],
      "metadata": {
        "colab": {
          "base_uri": "https://localhost:8080/"
        },
        "id": "82PwbT4O6w7e",
        "outputId": "ed411a0c-6a06-4862-ae22-db8e0740faee"
      },
      "execution_count": 52,
      "outputs": [
        {
          "output_type": "execute_result",
          "data": {
            "text/plain": [
              "(143,)"
            ]
          },
          "metadata": {},
          "execution_count": 52
        }
      ]
    },
    {
      "cell_type": "markdown",
      "source": [
        "- Ridge regression adds the “squared magnitude” of the coefficient as the penalty term to the loss function. The highlighted part below represents the L2 regularization element."
      ],
      "metadata": {
        "id": "q854uSFPL1O0"
      }
    },
    {
      "cell_type": "code",
      "source": [
        "model=SGDClassifier(penalty=\"l2\")"
      ],
      "metadata": {
        "id": "huZ6_5af60mG"
      },
      "execution_count": 55,
      "outputs": []
    },
    {
      "cell_type": "code",
      "source": [
        "scores=cross_val_score(model,trainx,trainy)\n",
        "scores"
      ],
      "metadata": {
        "colab": {
          "base_uri": "https://localhost:8080/"
        },
        "id": "YqKeer9gBlHJ",
        "outputId": "7cca2e3a-6906-4617-98a1-e2a5e98a0c00"
      },
      "execution_count": 56,
      "outputs": [
        {
          "output_type": "execute_result",
          "data": {
            "text/plain": [
              "array([1., 1., 1., 1., 1.])"
            ]
          },
          "metadata": {},
          "execution_count": 56
        }
      ]
    },
    {
      "cell_type": "markdown",
      "source": [
        "- here we got the distance of each point and how much it's far from the threshold \n",
        "- and then get all the thresholds and their precision and recalls\n",
        "- and get the highest precision that will move the threshold toward the dominant class"
      ],
      "metadata": {
        "id": "Jp88qq5FL-zk"
      }
    },
    {
      "cell_type": "code",
      "source": [
        "yscores=cross_val_predict(model,trainx,trainy,cv=3,method=\"decision_function\")\n"
      ],
      "metadata": {
        "id": "ZMME5xSACAqq"
      },
      "execution_count": 58,
      "outputs": []
    },
    {
      "cell_type": "code",
      "source": [
        "percicetions,recalls,thresholds=precision_recall_curve(trainy,yscores)"
      ],
      "metadata": {
        "id": "i1m0O5VECgBx"
      },
      "execution_count": 61,
      "outputs": []
    },
    {
      "cell_type": "code",
      "source": [
        "plt.plot(thresholds,percicetions[:-1],\"g\")\n",
        "plt.plot(thresholds,recalls[:-1],\"b\")"
      ],
      "metadata": {
        "colab": {
          "base_uri": "https://localhost:8080/",
          "height": 447
        },
        "id": "Q7nwaA3UEAgJ",
        "outputId": "88029e3e-c6d3-4d18-fc95-7eeca4fab2ff"
      },
      "execution_count": 63,
      "outputs": [
        {
          "output_type": "execute_result",
          "data": {
            "text/plain": [
              "[<matplotlib.lines.Line2D at 0x7f7592dffa00>]"
            ]
          },
          "metadata": {},
          "execution_count": 63
        },
        {
          "output_type": "display_data",
          "data": {
            "text/plain": [
              "<Figure size 640x480 with 1 Axes>"
            ],
            "image/png": "[encoded data removed]"
          },
          "metadata": {}
        }
      ]
    },
    {
      "cell_type": "markdown",
      "source": [
        "- precision and recall curve is most curves that show the quality of model  "
      ],
      "metadata": {
        "id": "yjlrqAf7MytE"
      }
    },
    {
      "cell_type": "code",
      "source": [
        "plt.plot(percicetions,recalls)"
      ],
      "metadata": {
        "colab": {
          "base_uri": "https://localhost:8080/",
          "height": 447
        },
        "id": "WvbOaBKcEY2Y",
        "outputId": "151c28d0-0d79-4545-aaca-502d05760b43"
      },
      "execution_count": 64,
      "outputs": [
        {
          "output_type": "execute_result",
          "data": {
            "text/plain": [
              "[<matplotlib.lines.Line2D at 0x7f7592e99ae0>]"
            ]
          },
          "metadata": {},
          "execution_count": 64
        },
        {
          "output_type": "display_data",
          "data": {
            "text/plain": [
              "<Figure size 640x480 with 1 Axes>"
            ],
            "image/png": "[encoded data removed]"
          },
          "metadata": {}
        }
      ]
    },
    {
      "cell_type": "code",
      "source": [
        "thresholds_with_96_P=thresholds[np.argmax(percicetions>=96)]"
      ],
      "metadata": {
        "id": "7tthL81wEkJY"
      },
      "execution_count": 66,
      "outputs": []
    },
    {
      "cell_type": "markdown",
      "source": [
        "- always there is trad of between precition and recall so here as we see the precision is very high and recall is very low which the opposite"
      ],
      "metadata": {
        "id": "kXyi6I9sNClz"
      }
    },
    {
      "cell_type": "code",
      "source": [
        "newclassifcatins=(yscores>=thresholds_with_96_P)"
      ],
      "metadata": {
        "id": "xSlbcUxJFWyH"
      },
      "execution_count": 67,
      "outputs": []
    },
    {
      "cell_type": "code",
      "source": [
        "precision_score(newclassifcatins,trainy)"
      ],
      "metadata": {
        "colab": {
          "base_uri": "https://localhost:8080/"
        },
        "id": "RdkV3qaiFrPw",
        "outputId": "8df873d6-e467-453c-ad69-7841ccfa9cad"
      },
      "execution_count": 69,
      "outputs": [
        {
          "output_type": "execute_result",
          "data": {
            "text/plain": [
              "1.0"
            ]
          },
          "metadata": {},
          "execution_count": 69
        }
      ]
    },
    {
      "cell_type": "code",
      "source": [
        "recall_score(newclassifcatins,trainy)"
      ],
      "metadata": {
        "colab": {
          "base_uri": "https://localhost:8080/"
        },
        "id": "KbLPdCIFHORA",
        "outputId": "ee289720-079b-4161-d194-754edf7fafb9"
      },
      "execution_count": 71,
      "outputs": [
        {
          "output_type": "execute_result",
          "data": {
            "text/plain": [
              "0.1875"
            ]
          },
          "metadata": {},
          "execution_count": 71
        }
      ]
    },
    {
      "cell_type": "code",
      "source": [],
      "metadata": {
        "id": "Nmz3YdnkHXE_"
      },
      "execution_count": null,
      "outputs": []
    }
  ]
}